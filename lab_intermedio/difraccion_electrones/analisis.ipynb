{
 "cells": [
  {
   "cell_type": "code",
   "execution_count": 12,
   "metadata": {},
   "outputs": [
    {
     "ename": "ModuleNotFoundError",
     "evalue": "No module named 'carga_datos'",
     "output_type": "error",
     "traceback": [
      "\u001b[1;31m---------------------------------------------------------------------------\u001b[0m",
      "\u001b[1;31mModuleNotFoundError\u001b[0m                       Traceback (most recent call last)",
      "Cell \u001b[1;32mIn[12], line 5\u001b[0m\n\u001b[0;32m      3\u001b[0m \u001b[38;5;28;01mimport\u001b[39;00m\u001b[38;5;250m \u001b[39m\u001b[38;5;21;01mnumpy\u001b[39;00m\u001b[38;5;250m \u001b[39m\u001b[38;5;28;01mas\u001b[39;00m\u001b[38;5;250m \u001b[39m\u001b[38;5;21;01mnp\u001b[39;00m\n\u001b[0;32m      4\u001b[0m \u001b[38;5;28;01mfrom\u001b[39;00m\u001b[38;5;250m \u001b[39m\u001b[38;5;21;01mscipy\u001b[39;00m\u001b[38;5;21;01m.\u001b[39;00m\u001b[38;5;21;01moptimize\u001b[39;00m\u001b[38;5;250m \u001b[39m\u001b[38;5;28;01mimport\u001b[39;00m curve_fit\n\u001b[1;32m----> 5\u001b[0m \u001b[38;5;28;01mimport\u001b[39;00m\u001b[38;5;250m \u001b[39m\u001b[38;5;21;01mcarga_datos\u001b[39;00m\u001b[38;5;250m \u001b[39m\u001b[38;5;28;01mas\u001b[39;00m\u001b[38;5;250m \u001b[39m\u001b[38;5;21;01mcd\u001b[39;00m\n\u001b[0;32m      6\u001b[0m \u001b[38;5;28;01mimport\u001b[39;00m\u001b[38;5;250m \u001b[39m\u001b[38;5;21;01mimportlib\u001b[39;00m\n\u001b[0;32m      7\u001b[0m importlib\u001b[38;5;241m.\u001b[39mreload(cd)\n",
      "\u001b[1;31mModuleNotFoundError\u001b[0m: No module named 'carga_datos'"
     ]
    }
   ],
   "source": [
    "import pandas as pd\n",
    "import matplotlib.pyplot as plt\n",
    "import numpy as np\n",
    "from scipy.optimize import curve_fit\n",
    "import carga_datos as cd\n",
    "import importlib\n",
    "importlib.reload(cd)\n",
    "\n"
   ]
  },
  {
   "cell_type": "markdown",
   "metadata": {},
   "source": [
    "Carga de Datos"
   ]
  },
  {
   "cell_type": "code",
   "execution_count": 5,
   "metadata": {},
   "outputs": [
    {
     "ename": "NameError",
     "evalue": "name 'cd' is not defined",
     "output_type": "error",
     "traceback": [
      "\u001b[1;31m---------------------------------------------------------------------------\u001b[0m",
      "\u001b[1;31mNameError\u001b[0m                                 Traceback (most recent call last)",
      "Cell \u001b[1;32mIn[5], line 1\u001b[0m\n\u001b[1;32m----> 1\u001b[0m Data\u001b[38;5;241m=\u001b[39m \u001b[43mcd\u001b[49m\u001b[38;5;241m.\u001b[39mplot_excel_sheets(\u001b[38;5;124mr\u001b[39m\u001b[38;5;124m\"\u001b[39m\u001b[38;5;124mC:/Users/ekkol/OneDrive/Escritorio/RepositorioVario/lab_intermedio/difraccion_electrones/datos_difraccion_electrones.xlsx\u001b[39m\u001b[38;5;124m\"\u001b[39m, \u001b[38;5;28;01mFalse\u001b[39;00m)\n\u001b[0;32m      2\u001b[0m radio_pequeño \u001b[38;5;241m=\u001b[39m Data[\u001b[38;5;124m\"\u001b[39m\u001b[38;5;124mRadio Pequeño\u001b[39m\u001b[38;5;124m\"\u001b[39m]\n\u001b[0;32m      3\u001b[0m radio_grande \u001b[38;5;241m=\u001b[39m Data[\u001b[38;5;124m\"\u001b[39m\u001b[38;5;124mRadio Grande\u001b[39m\u001b[38;5;124m\"\u001b[39m]\n",
      "\u001b[1;31mNameError\u001b[0m: name 'cd' is not defined"
     ]
    }
   ],
   "source": [
    "Data= cd.plot_excel_sheets(r\"C:/Users/ekkol/OneDrive/Escritorio/RepositorioVario/lab_intermedio/difraccion_electrones/datos_difraccion_electrones.xlsx\", False)\n",
    "radio_pequeño = Data[\"Radio Pequeño\"]\n",
    "radio_grande = Data[\"Radio Grande\"]\n",
    "#print(Data)\n"
   ]
  },
  {
   "cell_type": "markdown",
   "metadata": {},
   "source": [
    "calculamos $\\lambda_{\\text{broglie}} = \\frac{h}{\\sqrt{2 e V m_e}}$\n"
   ]
  },
  {
   "cell_type": "code",
   "execution_count": 6,
   "metadata": {},
   "outputs": [
    {
     "ename": "NameError",
     "evalue": "name 'radio_pequeño' is not defined",
     "output_type": "error",
     "traceback": [
      "\u001b[1;31m---------------------------------------------------------------------------\u001b[0m",
      "\u001b[1;31mNameError\u001b[0m                                 Traceback (most recent call last)",
      "Cell \u001b[1;32mIn[6], line 1\u001b[0m\n\u001b[1;32m----> 1\u001b[0m V_radio_pequeño \u001b[38;5;241m=\u001b[39m \u001b[43mradio_pequeño\u001b[49m[\u001b[38;5;124m\"\u001b[39m\u001b[38;5;124my\u001b[39m\u001b[38;5;124m\"\u001b[39m] \u001b[38;5;241m*\u001b[39m \u001b[38;5;241m1000\u001b[39m \u001b[38;5;66;03m#Pasamos de kV a V\u001b[39;00m\n\u001b[0;32m      2\u001b[0m V_radio_grande \u001b[38;5;241m=\u001b[39m radio_grande[\u001b[38;5;124m\"\u001b[39m\u001b[38;5;124my\u001b[39m\u001b[38;5;124m\"\u001b[39m] \u001b[38;5;241m*\u001b[39m \u001b[38;5;241m1000\u001b[39m \u001b[38;5;66;03m#Pasamos de kV a V\u001b[39;00m\n\u001b[0;32m      3\u001b[0m h \u001b[38;5;241m=\u001b[39m \u001b[38;5;241m6.62607015e-34\u001b[39m \u001b[38;5;66;03m#Joules*segundos\u001b[39;00m\n",
      "\u001b[1;31mNameError\u001b[0m: name 'radio_pequeño' is not defined"
     ]
    }
   ],
   "source": [
    "V_radio_pequeño = radio_pequeño[\"y\"] * 1000 #Pasamos de kV a V\n",
    "V_radio_grande = radio_grande[\"y\"] * 1000 #Pasamos de kV a V\n",
    "h = 6.62607015e-34 #Joules*segundos\n",
    "m_e = 9.10938356e-31 #kg\n",
    "e = 1.602176634e-19 #Coulombs10\n",
    "\n",
    "def longitud_de_onda (V_v):\n",
    "    l_broglie = (h / (np.sqrt(2 * m_e * e * V_v)))\n",
    "    return l_broglie\n",
    "\n",
    "def incer_lambda_broglie (V_v):\n",
    "    incer_V = 0.1\n",
    "    return h / (2*np.sqrt(2 * m_e * e * V_v**3)) * incer_V\n",
    "\n",
    "#Devuelve arrays!\n",
    "#print(\"l bragg = \",longitud_de_onda(V_radio_pequeño),\"+-\",incer_lambda_broglie(V_radio_pequeño))\n",
    "#print(\"l bragg = \",longitud_de_onda(V_radio_grande),\"+-\",incer_lambda_broglie(V_radio_grande))"
   ]
  },
  {
   "cell_type": "markdown",
   "metadata": {},
   "source": [
    "calculamos $\\lambda_{\\text{bragg}} = \\frac{2d}{n} \\sin \\left[ \\frac{1}{2} \\tan^{-1} \\left( \\frac{D}{2L} \\right) \\right]$"
   ]
  },
  {
   "cell_type": "code",
   "execution_count": 7,
   "metadata": {},
   "outputs": [
    {
     "ename": "NameError",
     "evalue": "name 'radio_pequeño' is not defined",
     "output_type": "error",
     "traceback": [
      "\u001b[1;31m---------------------------------------------------------------------------\u001b[0m",
      "\u001b[1;31mNameError\u001b[0m                                 Traceback (most recent call last)",
      "Cell \u001b[1;32mIn[7], line 1\u001b[0m\n\u001b[1;32m----> 1\u001b[0m d_1 \u001b[38;5;241m=\u001b[39m \u001b[43mradio_pequeño\u001b[49m[\u001b[38;5;124m\"\u001b[39m\u001b[38;5;124my\u001b[39m\u001b[38;5;124m\"\u001b[39m] \u001b[38;5;66;03m#distancia en cm\u001b[39;00m\n\u001b[0;32m      2\u001b[0m d_2 \u001b[38;5;241m=\u001b[39m radio_grande[\u001b[38;5;124m\"\u001b[39m\u001b[38;5;124my\u001b[39m\u001b[38;5;124m\"\u001b[39m] \u001b[38;5;66;03m#distancia en cm\u001b[39;00m\n\u001b[0;32m      4\u001b[0m \u001b[38;5;66;03m#Distancias interplanares:\u001b[39;00m\n",
      "\u001b[1;31mNameError\u001b[0m: name 'radio_pequeño' is not defined"
     ]
    }
   ],
   "source": [
    "d_1 = radio_pequeño[\"y\"] #distancia en cm\n",
    "d_2 = radio_grande[\"y\"] #distancia en cm\n",
    "\n",
    "#Distancias interplanares:\n",
    "\n",
    "D1 = 213 #pm\n",
    "D2 = 123 #pm\n",
    "\n",
    "D1_m = D1 * 1e-12 #distancia en m\n",
    "D2_m = D2 * 1e-12 #distancia en m\n",
    "\n",
    "d_1_m = d_1 * 1e-2 #distancia en m\n",
    "d_2_m = d_2 * 1e-2 #distancia en m\n",
    "\n",
    "def longitud_de_onda_bragg_(d_m, D_m):\n",
    "    return 2 * D_m * np.sin(0.5 * np.arctan(d_m/ (2 * 0.135)))\n",
    "\n",
    "def incer_lambda_bragg (d_m, D_m):\n",
    "    incer_d = 0.01\n",
    "    return ((2 * D_m * np.cos(0.5 * np.arctan(d_m / (2 * 0.135))) * 1/(2*(1+(1/2*0.135)**2*d_m**2 * 2*0.135))) * incer_d)\n",
    "\n",
    "print(longitud_de_onda_bragg_(0.0629, D2_m))\n",
    "print(incer_lambda_bragg(d_2_m, D2_m))"
   ]
  },
  {
   "cell_type": "markdown",
   "metadata": {},
   "source": [
    "Análisis de las cantidades (Ultima parte)"
   ]
  },
  {
   "cell_type": "code",
   "execution_count": 8,
   "metadata": {},
   "outputs": [
    {
     "ename": "NameError",
     "evalue": "name 'h' is not defined",
     "output_type": "error",
     "traceback": [
      "\u001b[1;31m---------------------------------------------------------------------------\u001b[0m",
      "\u001b[1;31mNameError\u001b[0m                                 Traceback (most recent call last)",
      "Cell \u001b[1;32mIn[8], line 6\u001b[0m\n\u001b[0;32m      3\u001b[0m \u001b[38;5;28;01mdef\u001b[39;00m\u001b[38;5;250m \u001b[39m\u001b[38;5;21mdistancia_interplanar\u001b[39m (m):\n\u001b[0;32m      4\u001b[0m     \u001b[38;5;28;01mreturn\u001b[39;00m (\u001b[38;5;241m0.135\u001b[39m\u001b[38;5;241m*\u001b[39mh) \u001b[38;5;241m/\u001b[39m (m\u001b[38;5;241m*\u001b[39mnp\u001b[38;5;241m.\u001b[39msqrt(\u001b[38;5;241m2\u001b[39m\u001b[38;5;241m*\u001b[39mm_e\u001b[38;5;241m*\u001b[39me))\n\u001b[1;32m----> 6\u001b[0m \u001b[43mdistancia_interplanar\u001b[49m\u001b[43m(\u001b[49m\u001b[38;5;241;43m3.48\u001b[39;49m\u001b[43m)\u001b[49m\n",
      "Cell \u001b[1;32mIn[8], line 4\u001b[0m, in \u001b[0;36mdistancia_interplanar\u001b[1;34m(m)\u001b[0m\n\u001b[0;32m      3\u001b[0m \u001b[38;5;28;01mdef\u001b[39;00m\u001b[38;5;250m \u001b[39m\u001b[38;5;21mdistancia_interplanar\u001b[39m (m):\n\u001b[1;32m----> 4\u001b[0m     \u001b[38;5;28;01mreturn\u001b[39;00m (\u001b[38;5;241m0.135\u001b[39m\u001b[38;5;241m*\u001b[39m\u001b[43mh\u001b[49m) \u001b[38;5;241m/\u001b[39m (m\u001b[38;5;241m*\u001b[39mnp\u001b[38;5;241m.\u001b[39msqrt(\u001b[38;5;241m2\u001b[39m\u001b[38;5;241m*\u001b[39mm_e\u001b[38;5;241m*\u001b[39me))\n",
      "\u001b[1;31mNameError\u001b[0m: name 'h' is not defined"
     ]
    }
   ],
   "source": [
    "# Se conoce h\n",
    "\n",
    "def distancia_interplanar (m):\n",
    "    return (0.135*h) / (m*np.sqrt(2*m_e*e))\n",
    "\n",
    "distancia_interplanar(3.48)"
   ]
  },
  {
   "cell_type": "code",
   "execution_count": 9,
   "metadata": {},
   "outputs": [
    {
     "ename": "NameError",
     "evalue": "name 'm_e' is not defined",
     "output_type": "error",
     "traceback": [
      "\u001b[1;31m---------------------------------------------------------------------------\u001b[0m",
      "\u001b[1;31mNameError\u001b[0m                                 Traceback (most recent call last)",
      "Cell \u001b[1;32mIn[9], line 10\u001b[0m\n\u001b[0;32m      7\u001b[0m     incer_d \u001b[38;5;241m=\u001b[39m \u001b[38;5;241m0.01\u001b[39m\n\u001b[0;32m      8\u001b[0m     \u001b[38;5;28;01mreturn\u001b[39;00m np\u001b[38;5;241m.\u001b[39msqrt((d\u001b[38;5;241m*\u001b[39mnp\u001b[38;5;241m.\u001b[39msqrt(\u001b[38;5;241m2\u001b[39m\u001b[38;5;241m*\u001b[39mm_e\u001b[38;5;241m*\u001b[39me)\u001b[38;5;241m/\u001b[39m(\u001b[38;5;241m2\u001b[39m\u001b[38;5;241m*\u001b[39m\u001b[38;5;241m0.135\u001b[39m))\u001b[38;5;241m*\u001b[39m\u001b[38;5;241m*\u001b[39m\u001b[38;5;241m2\u001b[39m \u001b[38;5;241m*\u001b[39m incer_d\u001b[38;5;241m*\u001b[39m\u001b[38;5;241m*\u001b[39m\u001b[38;5;241m2\u001b[39m)\n\u001b[1;32m---> 10\u001b[0m a \u001b[38;5;241m=\u001b[39m \u001b[43mhallar_h\u001b[49m\u001b[43m(\u001b[49m\u001b[38;5;241;43m2.29\u001b[39;49m\u001b[43m,\u001b[49m\u001b[43m \u001b[49m\u001b[38;5;241;43m123.0e-12\u001b[39;49m\u001b[43m)\u001b[49m\n\u001b[0;32m     11\u001b[0m b \u001b[38;5;241m=\u001b[39m incer_hallar_h(\u001b[38;5;241m2.29\u001b[39m, \u001b[38;5;241m123.0e-12\u001b[39m)\n\u001b[0;32m     13\u001b[0m \u001b[38;5;28mprint\u001b[39m(a, b)\n",
      "Cell \u001b[1;32mIn[9], line 4\u001b[0m, in \u001b[0;36mhallar_h\u001b[1;34m(m, d)\u001b[0m\n\u001b[0;32m      3\u001b[0m \u001b[38;5;28;01mdef\u001b[39;00m\u001b[38;5;250m \u001b[39m\u001b[38;5;21mhallar_h\u001b[39m (m,d):\n\u001b[1;32m----> 4\u001b[0m     \u001b[38;5;28;01mreturn\u001b[39;00m (m\u001b[38;5;241m*\u001b[39md\u001b[38;5;241m*\u001b[39mnp\u001b[38;5;241m.\u001b[39msqrt(\u001b[38;5;241m2\u001b[39m\u001b[38;5;241m*\u001b[39m\u001b[43mm_e\u001b[49m\u001b[38;5;241m*\u001b[39me)) \u001b[38;5;241m/\u001b[39m (\u001b[38;5;241m2\u001b[39m\u001b[38;5;241m*\u001b[39m\u001b[38;5;241m0.135\u001b[39m)\n",
      "\u001b[1;31mNameError\u001b[0m: name 'm_e' is not defined"
     ]
    }
   ],
   "source": [
    "# Se conocen d_i\n",
    "\n",
    "def hallar_h (m,d):\n",
    "    return (m*d*np.sqrt(2*m_e*e)) / (2*0.135)\n",
    "\n",
    "def incer_hallar_h (m, d):\n",
    "    incer_d = 0.01\n",
    "    return np.sqrt((d*np.sqrt(2*m_e*e)/(2*0.135))**2 * incer_d**2)\n",
    "\n",
    "a = hallar_h(2.29, 123.0e-12)\n",
    "b = incer_hallar_h(2.29, 123.0e-12)\n",
    "\n",
    "print(a, b)"
   ]
  },
  {
   "cell_type": "markdown",
   "metadata": {},
   "source": [
    "Definimos la función de Ajuste y Extraemos los parámetros óptimos, la matriz de covarianza. Ajustamos nuestro diccionario de valores para que sea legible por nuestra plotting function"
   ]
  },
  {
   "cell_type": "code",
   "execution_count": 10,
   "metadata": {},
   "outputs": [
    {
     "ename": "NameError",
     "evalue": "name 'radio_pequeño' is not defined",
     "output_type": "error",
     "traceback": [
      "\u001b[1;31m---------------------------------------------------------------------------\u001b[0m",
      "\u001b[1;31mNameError\u001b[0m                                 Traceback (most recent call last)",
      "Cell \u001b[1;32mIn[10], line 4\u001b[0m\n\u001b[0;32m      1\u001b[0m \u001b[38;5;28;01mdef\u001b[39;00m\u001b[38;5;250m \u001b[39m\u001b[38;5;21mfitting_function\u001b[39m(x, m, b):\n\u001b[0;32m      2\u001b[0m     \u001b[38;5;28;01mreturn\u001b[39;00m m \u001b[38;5;241m*\u001b[39m x \u001b[38;5;241m+\u001b[39m b\n\u001b[1;32m----> 4\u001b[0m popt_p, pcov_p \u001b[38;5;241m=\u001b[39m curve_fit(fitting_function, \u001b[43mradio_pequeño\u001b[49m[\u001b[38;5;124m\"\u001b[39m\u001b[38;5;124mx\u001b[39m\u001b[38;5;124m\"\u001b[39m], radio_pequeño[\u001b[38;5;124m\"\u001b[39m\u001b[38;5;124my\u001b[39m\u001b[38;5;124m\"\u001b[39m], sigma\u001b[38;5;241m=\u001b[39mradio_pequeño[\u001b[38;5;124m\"\u001b[39m\u001b[38;5;124merror\u001b[39m\u001b[38;5;124m\"\u001b[39m])\n\u001b[0;32m      5\u001b[0m popt_g, pcov_g \u001b[38;5;241m=\u001b[39m curve_fit(fitting_function, radio_grande[\u001b[38;5;124m\"\u001b[39m\u001b[38;5;124mx\u001b[39m\u001b[38;5;124m\"\u001b[39m], radio_grande[\u001b[38;5;124m\"\u001b[39m\u001b[38;5;124my\u001b[39m\u001b[38;5;124m\"\u001b[39m], sigma\u001b[38;5;241m=\u001b[39mradio_grande[\u001b[38;5;124m\"\u001b[39m\u001b[38;5;124merror\u001b[39m\u001b[38;5;124m\"\u001b[39m])\n\u001b[0;32m      7\u001b[0m formula_text_p \u001b[38;5;241m=\u001b[39m \u001b[38;5;124mr\u001b[39m\u001b[38;5;124m\"\u001b[39m\u001b[38;5;124m$y = \u001b[39m\u001b[38;5;132;01m{:.2f}\u001b[39;00m\u001b[38;5;124mx + \u001b[39m\u001b[38;5;132;01m{:.2f}\u001b[39;00m\u001b[38;5;124m$\u001b[39m\u001b[38;5;124m\"\u001b[39m\u001b[38;5;241m.\u001b[39mformat(popt_p[\u001b[38;5;241m0\u001b[39m], popt_p[\u001b[38;5;241m1\u001b[39m])\n",
      "\u001b[1;31mNameError\u001b[0m: name 'radio_pequeño' is not defined"
     ]
    }
   ],
   "source": [
    "\n",
    "def fitting_function(x, m, b):\n",
    "    return m * x + b\n",
    "\n",
    "popt_p, pcov_p = curve_fit(fitting_function, radio_pequeño[\"x\"], radio_pequeño[\"y\"], sigma=radio_pequeño[\"error\"])\n",
    "popt_g, pcov_g = curve_fit(fitting_function, radio_grande[\"x\"], radio_grande[\"y\"], sigma=radio_grande[\"error\"])\n",
    "\n",
    "formula_text_p = r\"$y = {:.2f}x + {:.2f}$\".format(popt_p[0], popt_p[1])\n",
    "formula_text_g = r\"$y = {:.2f}x + {:.2f}$\".format(popt_g[0], popt_g[1])\n",
    "\n",
    "\n",
    "radio_pequeño[\"popt\"]=popt_p\n",
    "radio_pequeño[\"formula_text\"] = formula_text_p\n",
    "radio_grande[\"popt\"]=popt_g\n",
    "radio_grande[\"formula_text\"]=formula_text_g\n",
    "\n",
    "\n",
    "cd.plot_fitted_curve(fitting_function, False, \"Graficas_res\" ,dataset1= radio_pequeño, dataset2 = radio_grande)"
   ]
  }
 ],
 "metadata": {
  "kernelspec": {
   "display_name": "Python 3",
   "language": "python",
   "name": "python3"
  },
  "language_info": {
   "codemirror_mode": {
    "name": "ipython",
    "version": 3
   },
   "file_extension": ".py",
   "mimetype": "text/x-python",
   "name": "python",
   "nbconvert_exporter": "python",
   "pygments_lexer": "ipython3",
   "version": "3.13.1"
  }
 },
 "nbformat": 4,
 "nbformat_minor": 2
}
